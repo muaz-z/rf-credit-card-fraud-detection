{
 "cells": [
  {
   "cell_type": "code",
   "execution_count": 1,
   "id": "cc735096",
   "metadata": {
    "_cell_guid": "b1076dfc-b9ad-4769-8c92-a6c4dae69d19",
    "_uuid": "8f2839f25d086af736a60e9eeb907d3b93b6e0e5",
    "execution": {
     "iopub.execute_input": "2025-10-06T20:02:10.437687Z",
     "iopub.status.busy": "2025-10-06T20:02:10.437341Z",
     "iopub.status.idle": "2025-10-06T20:02:12.594827Z",
     "shell.execute_reply": "2025-10-06T20:02:12.593728Z"
    },
    "papermill": {
     "duration": 2.164846,
     "end_time": "2025-10-06T20:02:12.596590",
     "exception": false,
     "start_time": "2025-10-06T20:02:10.431744",
     "status": "completed"
    },
    "tags": []
   },
   "outputs": [
    {
     "name": "stdout",
     "output_type": "stream",
     "text": [
      "/kaggle/input/creditcardfraud/creditcard.csv\n"
     ]
    }
   ],
   "source": [
    "import numpy as np # linear algebra\n",
    "import pandas as pd # data processing, CSV file I/O (e.g. pd.read_csv)\n",
    "\n",
    "\n",
    "import os\n",
    "for dirname, _, filenames in os.walk('/kaggle/input'):\n",
    "    for filename in filenames:\n",
    "        print(os.path.join(dirname, filename))"
   ]
  },
  {
   "cell_type": "code",
   "execution_count": 2,
   "id": "891c40c2",
   "metadata": {
    "execution": {
     "iopub.execute_input": "2025-10-06T20:02:12.605600Z",
     "iopub.status.busy": "2025-10-06T20:02:12.604686Z",
     "iopub.status.idle": "2025-10-06T20:02:16.692389Z",
     "shell.execute_reply": "2025-10-06T20:02:16.691313Z"
    },
    "papermill": {
     "duration": 4.093772,
     "end_time": "2025-10-06T20:02:16.694107",
     "exception": false,
     "start_time": "2025-10-06T20:02:12.600335",
     "status": "completed"
    },
    "tags": []
   },
   "outputs": [
    {
     "name": "stdout",
     "output_type": "stream",
     "text": [
      "<class 'pandas.core.frame.DataFrame'>\n",
      "RangeIndex: 284807 entries, 0 to 284806\n",
      "Data columns (total 31 columns):\n",
      " #   Column  Non-Null Count   Dtype  \n",
      "---  ------  --------------   -----  \n",
      " 0   Time    284807 non-null  float64\n",
      " 1   V1      284807 non-null  float64\n",
      " 2   V2      284807 non-null  float64\n",
      " 3   V3      284807 non-null  float64\n",
      " 4   V4      284807 non-null  float64\n",
      " 5   V5      284807 non-null  float64\n",
      " 6   V6      284807 non-null  float64\n",
      " 7   V7      284807 non-null  float64\n",
      " 8   V8      284807 non-null  float64\n",
      " 9   V9      284807 non-null  float64\n",
      " 10  V10     284807 non-null  float64\n",
      " 11  V11     284807 non-null  float64\n",
      " 12  V12     284807 non-null  float64\n",
      " 13  V13     284807 non-null  float64\n",
      " 14  V14     284807 non-null  float64\n",
      " 15  V15     284807 non-null  float64\n",
      " 16  V16     284807 non-null  float64\n",
      " 17  V17     284807 non-null  float64\n",
      " 18  V18     284807 non-null  float64\n",
      " 19  V19     284807 non-null  float64\n",
      " 20  V20     284807 non-null  float64\n",
      " 21  V21     284807 non-null  float64\n",
      " 22  V22     284807 non-null  float64\n",
      " 23  V23     284807 non-null  float64\n",
      " 24  V24     284807 non-null  float64\n",
      " 25  V25     284807 non-null  float64\n",
      " 26  V26     284807 non-null  float64\n",
      " 27  V27     284807 non-null  float64\n",
      " 28  V28     284807 non-null  float64\n",
      " 29  Amount  284807 non-null  float64\n",
      " 30  Class   284807 non-null  int64  \n",
      "dtypes: float64(30), int64(1)\n",
      "memory usage: 67.4 MB\n"
     ]
    },
    {
     "data": {
      "text/plain": [
       "(   Time        V1        V2        V3        V4        V5        V6        V7  \\\n",
       " 0   0.0 -1.359807 -0.072781  2.536347  1.378155 -0.338321  0.462388  0.239599   \n",
       " 1   0.0  1.191857  0.266151  0.166480  0.448154  0.060018 -0.082361 -0.078803   \n",
       " 2   1.0 -1.358354 -1.340163  1.773209  0.379780 -0.503198  1.800499  0.791461   \n",
       " 3   1.0 -0.966272 -0.185226  1.792993 -0.863291 -0.010309  1.247203  0.237609   \n",
       " 4   2.0 -1.158233  0.877737  1.548718  0.403034 -0.407193  0.095921  0.592941   \n",
       " \n",
       "          V8        V9  ...       V21       V22       V23       V24       V25  \\\n",
       " 0  0.098698  0.363787  ... -0.018307  0.277838 -0.110474  0.066928  0.128539   \n",
       " 1  0.085102 -0.255425  ... -0.225775 -0.638672  0.101288 -0.339846  0.167170   \n",
       " 2  0.247676 -1.514654  ...  0.247998  0.771679  0.909412 -0.689281 -0.327642   \n",
       " 3  0.377436 -1.387024  ... -0.108300  0.005274 -0.190321 -1.175575  0.647376   \n",
       " 4 -0.270533  0.817739  ... -0.009431  0.798278 -0.137458  0.141267 -0.206010   \n",
       " \n",
       "         V26       V27       V28  Amount  Class  \n",
       " 0 -0.189115  0.133558 -0.021053  149.62      0  \n",
       " 1  0.125895 -0.008983  0.014724    2.69      0  \n",
       " 2 -0.139097 -0.055353 -0.059752  378.66      0  \n",
       " 3 -0.221929  0.062723  0.061458  123.50      0  \n",
       " 4  0.502292  0.219422  0.215153   69.99      0  \n",
       " \n",
       " [5 rows x 31 columns],\n",
       " None)"
      ]
     },
     "execution_count": 2,
     "metadata": {},
     "output_type": "execute_result"
    }
   ],
   "source": [
    "df = pd.read_csv(\"/kaggle/input/creditcardfraud/creditcard.csv\")\n",
    "df.head(), df.info()"
   ]
  },
  {
   "cell_type": "code",
   "execution_count": 3,
   "id": "9b250e4e",
   "metadata": {
    "execution": {
     "iopub.execute_input": "2025-10-06T20:02:16.702885Z",
     "iopub.status.busy": "2025-10-06T20:02:16.702505Z",
     "iopub.status.idle": "2025-10-06T20:02:16.776100Z",
     "shell.execute_reply": "2025-10-06T20:02:16.775175Z"
    },
    "papermill": {
     "duration": 0.080111,
     "end_time": "2025-10-06T20:02:16.777963",
     "exception": false,
     "start_time": "2025-10-06T20:02:16.697852",
     "status": "completed"
    },
    "tags": []
   },
   "outputs": [
    {
     "data": {
      "text/plain": [
       "(array([[-1.35980713e+00, -7.27811733e-02,  2.53634674e+00,\n",
       "          1.37815522e+00, -3.38320770e-01,  4.62387778e-01,\n",
       "          2.39598554e-01,  9.86979013e-02,  3.63786970e-01,\n",
       "          9.07941720e-02, -5.51599533e-01, -6.17800856e-01,\n",
       "         -9.91389847e-01, -3.11169354e-01,  1.46817697e+00,\n",
       "         -4.70400525e-01,  2.07971242e-01,  2.57905802e-02,\n",
       "          4.03992960e-01,  2.51412098e-01, -1.83067779e-02,\n",
       "          2.77837576e-01, -1.10473910e-01,  6.69280749e-02,\n",
       "          1.28539358e-01, -1.89114844e-01,  1.33558377e-01,\n",
       "         -2.10530535e-02,  1.49620000e+02]]),\n",
       " array([0]))"
      ]
     },
     "execution_count": 3,
     "metadata": {},
     "output_type": "execute_result"
    }
   ],
   "source": [
    "df = df.drop(\"Time\", axis=1)\n",
    "X = df.drop(\"Class\", axis=1).to_numpy()\n",
    "y = df[\"Class\"].to_numpy()\n",
    "X[:1], y[:1]"
   ]
  },
  {
   "cell_type": "code",
   "execution_count": 4,
   "id": "f589f58f",
   "metadata": {
    "execution": {
     "iopub.execute_input": "2025-10-06T20:02:16.786430Z",
     "iopub.status.busy": "2025-10-06T20:02:16.786102Z",
     "iopub.status.idle": "2025-10-06T20:02:18.929384Z",
     "shell.execute_reply": "2025-10-06T20:02:18.928072Z"
    },
    "papermill": {
     "duration": 2.150828,
     "end_time": "2025-10-06T20:02:18.932484",
     "exception": false,
     "start_time": "2025-10-06T20:02:16.781656",
     "status": "completed"
    },
    "tags": []
   },
   "outputs": [],
   "source": [
    "from sklearn.model_selection import train_test_split\n",
    "\n",
    "X_train, X_test, y_train, y_test = train_test_split(X, y, test_size=0.2, stratify=y, random_state=42)"
   ]
  },
  {
   "cell_type": "code",
   "execution_count": 5,
   "id": "cbff3335",
   "metadata": {
    "execution": {
     "iopub.execute_input": "2025-10-06T20:02:18.942141Z",
     "iopub.status.busy": "2025-10-06T20:02:18.941279Z",
     "iopub.status.idle": "2025-10-06T20:02:19.375339Z",
     "shell.execute_reply": "2025-10-06T20:02:19.374014Z"
    },
    "papermill": {
     "duration": 0.440578,
     "end_time": "2025-10-06T20:02:19.377054",
     "exception": false,
     "start_time": "2025-10-06T20:02:18.936476",
     "status": "completed"
    },
    "tags": []
   },
   "outputs": [],
   "source": [
    "from sklearn.ensemble import RandomForestClassifier\n",
    "\n",
    "rf_clf = RandomForestClassifier(\n",
    "    n_estimators=100,\n",
    "    class_weight=\"balanced\",\n",
    "    random_state=42,\n",
    "    n_jobs=-1\n",
    ")\n"
   ]
  },
  {
   "cell_type": "code",
   "execution_count": 6,
   "id": "00b65e16",
   "metadata": {
    "execution": {
     "iopub.execute_input": "2025-10-06T20:02:19.386199Z",
     "iopub.status.busy": "2025-10-06T20:02:19.385886Z",
     "iopub.status.idle": "2025-10-06T20:03:56.382361Z",
     "shell.execute_reply": "2025-10-06T20:03:56.381283Z"
    },
    "papermill": {
     "duration": 97.002788,
     "end_time": "2025-10-06T20:03:56.384131",
     "exception": false,
     "start_time": "2025-10-06T20:02:19.381343",
     "status": "completed"
    },
    "tags": []
   },
   "outputs": [],
   "source": [
    "from sklearn.model_selection import cross_val_predict\n",
    "y_pred = cross_val_predict(rf_clf, X_train, y_train, cv=3)"
   ]
  },
  {
   "cell_type": "code",
   "execution_count": 7,
   "id": "74063fa1",
   "metadata": {
    "execution": {
     "iopub.execute_input": "2025-10-06T20:03:56.393599Z",
     "iopub.status.busy": "2025-10-06T20:03:56.393294Z",
     "iopub.status.idle": "2025-10-06T20:03:56.584629Z",
     "shell.execute_reply": "2025-10-06T20:03:56.583620Z"
    },
    "papermill": {
     "duration": 0.198262,
     "end_time": "2025-10-06T20:03:56.586468",
     "exception": false,
     "start_time": "2025-10-06T20:03:56.388206",
     "status": "completed"
    },
    "tags": []
   },
   "outputs": [
    {
     "name": "stdout",
     "output_type": "stream",
     "text": [
      "Precision: 0.9411764705882353\n",
      "Recall: 0.7309644670050761\n",
      "f1: 0.8228571428571428\n"
     ]
    }
   ],
   "source": [
    "from sklearn.metrics import precision_score, recall_score, f1_score\n",
    "\n",
    "precision = precision_score(y_train, y_pred)\n",
    "recall = recall_score(y_train, y_pred)\n",
    "f1 = f1_score(y_train, y_pred)\n",
    "print(\"Precision:\", precision)\n",
    "print(\"Recall:\", recall)\n",
    "print(\"f1:\", f1)"
   ]
  },
  {
   "cell_type": "code",
   "execution_count": 8,
   "id": "c63ce243",
   "metadata": {
    "execution": {
     "iopub.execute_input": "2025-10-06T20:03:56.595424Z",
     "iopub.status.busy": "2025-10-06T20:03:56.595099Z",
     "iopub.status.idle": "2025-10-06T20:03:56.600890Z",
     "shell.execute_reply": "2025-10-06T20:03:56.599895Z"
    },
    "papermill": {
     "duration": 0.012025,
     "end_time": "2025-10-06T20:03:56.602402",
     "exception": false,
     "start_time": "2025-10-06T20:03:56.590377",
     "status": "completed"
    },
    "tags": []
   },
   "outputs": [],
   "source": [
    "import matplotlib.pyplot as plt\n",
    "def plot_precision_recall_vs_threshold(precisions, recalls, thresholds):\n",
    " plt.plot(thresholds, precisions[:-1], \"b--\", label=\"Precision\")\n",
    " plt.plot(thresholds, recalls[:-1], \"g-\", label=\"Recall\")\n",
    " plt.xlabel(\"Threshold\")\n",
    " plt.legend(loc=\"center left\")\n",
    " plt.ylim([0, 1])"
   ]
  },
  {
   "cell_type": "code",
   "execution_count": 9,
   "id": "78d46b4e",
   "metadata": {
    "execution": {
     "iopub.execute_input": "2025-10-06T20:03:56.611524Z",
     "iopub.status.busy": "2025-10-06T20:03:56.611169Z",
     "iopub.status.idle": "2025-10-06T20:05:32.610636Z",
     "shell.execute_reply": "2025-10-06T20:05:32.609532Z"
    },
    "papermill": {
     "duration": 96.008327,
     "end_time": "2025-10-06T20:05:32.614678",
     "exception": false,
     "start_time": "2025-10-06T20:03:56.606351",
     "status": "completed"
    },
    "tags": []
   },
   "outputs": [
    {
     "data": {
      "text/plain": [
       "array([[1., 0.],\n",
       "       [1., 0.],\n",
       "       [1., 0.],\n",
       "       ...,\n",
       "       [1., 0.],\n",
       "       [1., 0.],\n",
       "       [1., 0.]])"
      ]
     },
     "execution_count": 9,
     "metadata": {},
     "output_type": "execute_result"
    }
   ],
   "source": [
    "y_scores = cross_val_predict(rf_clf, X_train, y_train, cv=3, method=\"predict_proba\")\n",
    "y_scores"
   ]
  },
  {
   "cell_type": "code",
   "execution_count": 10,
   "id": "bc803265",
   "metadata": {
    "execution": {
     "iopub.execute_input": "2025-10-06T20:05:32.624036Z",
     "iopub.status.busy": "2025-10-06T20:05:32.623313Z",
     "iopub.status.idle": "2025-10-06T20:05:32.649739Z",
     "shell.execute_reply": "2025-10-06T20:05:32.648799Z"
    },
    "papermill": {
     "duration": 0.033031,
     "end_time": "2025-10-06T20:05:32.651494",
     "exception": false,
     "start_time": "2025-10-06T20:05:32.618463",
     "status": "completed"
    },
    "tags": []
   },
   "outputs": [
    {
     "data": {
      "text/plain": [
       "(array([[1., 0.],\n",
       "        [1., 0.],\n",
       "        [1., 0.],\n",
       "        ...,\n",
       "        [1., 0.],\n",
       "        [1., 0.],\n",
       "        [1., 0.]]),\n",
       " (227845, 2))"
      ]
     },
     "execution_count": 10,
     "metadata": {},
     "output_type": "execute_result"
    }
   ],
   "source": [
    "from sklearn.metrics import precision_recall_curve\n",
    "precisions, recalls, thresholds = precision_recall_curve(y_train, y_scores[:, 1])\n",
    "y_scores, y_scores.shape"
   ]
  },
  {
   "cell_type": "code",
   "execution_count": 11,
   "id": "b90bb2df",
   "metadata": {
    "execution": {
     "iopub.execute_input": "2025-10-06T20:05:32.660654Z",
     "iopub.status.busy": "2025-10-06T20:05:32.660305Z",
     "iopub.status.idle": "2025-10-06T20:05:33.023741Z",
     "shell.execute_reply": "2025-10-06T20:05:33.022665Z"
    },
    "papermill": {
     "duration": 0.370056,
     "end_time": "2025-10-06T20:05:33.025500",
     "exception": false,
     "start_time": "2025-10-06T20:05:32.655444",
     "status": "completed"
    },
    "tags": []
   },
   "outputs": [
    {
     "data": {
      "image/png": "[encoded data removed]",
      "text/plain": [
       "<Figure size 640x480 with 1 Axes>"
      ]
     },
     "metadata": {},
     "output_type": "display_data"
    }
   ],
   "source": [
    "plot_precision_recall_vs_threshold(precisions, recalls, thresholds)\n",
    "plt.show()"
   ]
  },
  {
   "cell_type": "code",
   "execution_count": 12,
   "id": "888b1789",
   "metadata": {
    "execution": {
     "iopub.execute_input": "2025-10-06T20:05:33.036298Z",
     "iopub.status.busy": "2025-10-06T20:05:33.035170Z",
     "iopub.status.idle": "2025-10-06T20:05:33.204255Z",
     "shell.execute_reply": "2025-10-06T20:05:33.203113Z"
    },
    "papermill": {
     "duration": 0.176012,
     "end_time": "2025-10-06T20:05:33.205888",
     "exception": false,
     "start_time": "2025-10-06T20:05:33.029876",
     "status": "completed"
    },
    "tags": []
   },
   "outputs": [
    {
     "data": {
      "image/png": "[encoded data removed]",
      "text/plain": [
       "<Figure size 640x480 with 1 Axes>"
      ]
     },
     "metadata": {},
     "output_type": "display_data"
    }
   ],
   "source": [
    "def plot_precision_vs_recall(precisions, recalls):\n",
    "    plt.plot(recalls, precisions, \"b-\")\n",
    "    plt.xlabel(\"Recall\")\n",
    "    plt.ylabel(\"Precision\")\n",
    "    plt.title(\"Precision vs Recall Curve\")\n",
    "    plt.ylim([0, 1])\n",
    "    plt.xlim([0, 1])\n",
    "    plt.grid(True)\n",
    "    plt.show()\n",
    "\n",
    "# Call it\n",
    "plot_precision_vs_recall(precisions, recalls)"
   ]
  },
  {
   "cell_type": "code",
   "execution_count": 13,
   "id": "1444aa28",
   "metadata": {
    "execution": {
     "iopub.execute_input": "2025-10-06T20:05:33.216773Z",
     "iopub.status.busy": "2025-10-06T20:05:33.216455Z",
     "iopub.status.idle": "2025-10-06T20:05:33.222748Z",
     "shell.execute_reply": "2025-10-06T20:05:33.221760Z"
    },
    "papermill": {
     "duration": 0.013735,
     "end_time": "2025-10-06T20:05:33.224542",
     "exception": false,
     "start_time": "2025-10-06T20:05:33.210807",
     "status": "completed"
    },
    "tags": []
   },
   "outputs": [
    {
     "name": "stdout",
     "output_type": "stream",
     "text": [
      "Threshold for ~90% recall: 0.01\n"
     ]
    }
   ],
   "source": [
    "target_recall = 0.90\n",
    "idx = np.argmin(np.abs(recalls - target_recall))\n",
    "best_threshold = thresholds[idx]\n",
    "print(\"Threshold for ~90% recall:\", best_threshold)"
   ]
  },
  {
   "cell_type": "code",
   "execution_count": 14,
   "id": "3b6d0030",
   "metadata": {
    "execution": {
     "iopub.execute_input": "2025-10-06T20:05:33.237278Z",
     "iopub.status.busy": "2025-10-06T20:05:33.236906Z",
     "iopub.status.idle": "2025-10-06T20:05:33.310761Z",
     "shell.execute_reply": "2025-10-06T20:05:33.309576Z"
    },
    "papermill": {
     "duration": 0.082945,
     "end_time": "2025-10-06T20:05:33.312576",
     "exception": false,
     "start_time": "2025-10-06T20:05:33.229631",
     "status": "completed"
    },
    "tags": []
   },
   "outputs": [
    {
     "data": {
      "text/plain": [
       "0.8959390862944162"
      ]
     },
     "execution_count": 14,
     "metadata": {},
     "output_type": "execute_result"
    }
   ],
   "source": [
    "from sklearn.metrics import recall_score\n",
    "\n",
    "y_pred_90 = (y_scores[:,1] >= best_threshold)\n",
    "recall_score(y_train, y_pred_90)"
   ]
  },
  {
   "cell_type": "code",
   "execution_count": 15,
   "id": "f765700c",
   "metadata": {
    "execution": {
     "iopub.execute_input": "2025-10-06T20:05:33.323677Z",
     "iopub.status.busy": "2025-10-06T20:05:33.323358Z",
     "iopub.status.idle": "2025-10-06T20:06:29.665509Z",
     "shell.execute_reply": "2025-10-06T20:06:29.664400Z"
    },
    "papermill": {
     "duration": 56.35431,
     "end_time": "2025-10-06T20:06:29.671875",
     "exception": false,
     "start_time": "2025-10-06T20:05:33.317565",
     "status": "completed"
    },
    "tags": []
   },
   "outputs": [
    {
     "name": "stdout",
     "output_type": "stream",
     "text": [
      "Recall: 0.9183673469387755\n",
      "Precision: 0.07003891050583658\n",
      "F1: 0.13015184381778744\n"
     ]
    }
   ],
   "source": [
    "rf_clf.fit(X_train, y_train)\n",
    "\n",
    "y_scores_test = rf_clf.predict_proba(X_test)[:,1]\n",
    "y_pred_test = (y_scores_test >= best_threshold).astype(int)\n",
    "\n",
    "print(\"Recall:\", recall_score(y_test, y_pred_test))\n",
    "print(\"Precision:\", precision_score(y_test, y_pred_test))\n",
    "print(\"F1:\", f1_score(y_test, y_pred_test))"
   ]
  }
 ],
 "metadata": {
  "kaggle": {
   "accelerator": "none",
   "dataSources": [
    {
     "datasetId": 310,
     "sourceId": 23498,
     "sourceType": "datasetVersion"
    }
   ],
   "dockerImageVersionId": 31089,
   "isGpuEnabled": false,
   "isInternetEnabled": true,
   "language": "python",
   "sourceType": "notebook"
  },
  "kernelspec": {
   "display_name": "Python 3",
   "language": "python",
   "name": "python3"
  },
  "language_info": {
   "codemirror_mode": {
    "name": "ipython",
    "version": 3
   },
   "file_extension": ".py",
   "mimetype": "text/x-python",
   "name": "python",
   "nbconvert_exporter": "python",
   "pygments_lexer": "ipython3",
   "version": "3.11.13"
  },
  "papermill": {
   "default_parameters": {},
   "duration": 266.144968,
   "end_time": "2025-10-06T20:06:30.417383",
   "environment_variables": {},
   "exception": null,
   "input_path": "__notebook__.ipynb",
   "output_path": "__notebook__.ipynb",
   "parameters": {},
   "start_time": "2025-10-06T20:02:04.272415",
   "version": "2.6.0"
  }
 },
 "nbformat": 4,
 "nbformat_minor": 5
}
